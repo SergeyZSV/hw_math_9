{
 "cells": [
  {
   "cell_type": "markdown",
   "metadata": {},
   "source": [
    "Посчитать коэффициент линейной регрессии при заработной плате (zp), используя градиентный спуск (без intercept). "
   ]
  },
  {
   "cell_type": "code",
   "execution_count": 55,
   "metadata": {},
   "outputs": [],
   "source": [
    "import numpy as np\n",
    "from sklearn.linear_model import LinearRegression\n",
    "import math"
   ]
  },
  {
   "cell_type": "code",
   "execution_count": 56,
   "metadata": {},
   "outputs": [],
   "source": [
    "zp = [35, 45, 190, 200, 40, 70, 54, 150, 120, 110]\n",
    "ks = [401, 574, 874, 919, 459, 739, 653, 902, 746, 832]"
   ]
  },
  {
   "cell_type": "code",
   "execution_count": 57,
   "metadata": {},
   "outputs": [],
   "source": [
    "model = LinearRegression()"
   ]
  },
  {
   "cell_type": "code",
   "execution_count": 58,
   "metadata": {},
   "outputs": [],
   "source": [
    "x = np.array(zp)\n",
    "y = np.array(ks)\n",
    "n = 10"
   ]
  },
  {
   "cell_type": "code",
   "execution_count": 59,
   "metadata": {},
   "outputs": [],
   "source": [
    "def mse_(B1, y=y, x=x, n=10):\n",
    "    return np.sum((B1*x - y)**2) / n"
   ]
  },
  {
   "cell_type": "code",
   "execution_count": 60,
   "metadata": {},
   "outputs": [],
   "source": [
    "alpha = 1 * 2.72 - 6\n",
    "B1 = np.std(x, ddof=1)"
   ]
  },
  {
   "cell_type": "code",
   "execution_count": 61,
   "metadata": {},
   "outputs": [
    {
     "name": "stdout",
     "output_type": "stream",
     "text": [
      "Iteration = 0, B1 = 5099295.673422276, mse = 3.582295724033217e+17\n",
      "Iteration = 10, B1 = 1.853602604257426e+56, mse = 4.733422936305724e+116\n",
      "Iteration = 20, B1 = 6.737884608085597e+105, mse = 6.254450894054901e+215\n",
      "Iteration = 30, B1 = 2.4492352830969495e+155, mse = inf\n",
      "Iteration = 40, B1 = 8.903021973348089e+204, mse = inf\n",
      "Iteration = 50, B1 = 3.236267287383403e+254, mse = inf\n",
      "Iteration = 60, B1 = 1.1763899928295108e+304, mse = inf\n",
      "Iteration = 70, B1 = inf, mse = inf\n",
      "Iteration = 80, B1 = inf, mse = inf\n",
      "Iteration = 90, B1 = inf, mse = inf\n"
     ]
    },
    {
     "name": "stderr",
     "output_type": "stream",
     "text": [
      "C:\\Users\\Sergey\\AppData\\Local\\Temp\\ipykernel_8696\\1088594024.py:2: RuntimeWarning: overflow encountered in square\n",
      "  return np.sum((B1*x - y)**2) / n\n",
      "C:\\Users\\Sergey\\AppData\\Local\\Temp\\ipykernel_8696\\2539546270.py:2: RuntimeWarning: overflow encountered in multiply\n",
      "  B1 -= alpha * (2/n) * np.sum((B1 * x - y) * x)\n"
     ]
    }
   ],
   "source": [
    "for i in range(100):\n",
    "    B1 -= alpha * (2/n) * np.sum((B1 * x - y) * x)\n",
    "    if i % 10 == 0: \n",
    "        print('Iteration = {i}, B1 = {B1}, mse = {mse}'.format(i=i, B1=B1, mse=mse_(B1)))"
   ]
  }
 ],
 "metadata": {
  "kernelspec": {
   "display_name": "Python 3.10.8 64-bit (microsoft store)",
   "language": "python",
   "name": "python3"
  },
  "language_info": {
   "codemirror_mode": {
    "name": "ipython",
    "version": 3
   },
   "file_extension": ".py",
   "mimetype": "text/x-python",
   "name": "python",
   "nbconvert_exporter": "python",
   "pygments_lexer": "ipython3",
   "version": "3.10.8"
  },
  "orig_nbformat": 4,
  "vscode": {
   "interpreter": {
    "hash": "a65047efe5310cba32a68f66e880a655ac4e6741fb0ee01ff8aa9e6797a50633"
   }
  }
 },
 "nbformat": 4,
 "nbformat_minor": 2
}
